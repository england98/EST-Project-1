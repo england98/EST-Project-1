{
  "nbformat": 4,
  "nbformat_minor": 0,
  "metadata": {
    "colab": {
      "provenance": []
    },
    "kernelspec": {
      "name": "python3",
      "display_name": "Python 3"
    },
    "language_info": {
      "name": "python"
    }
  },
  "cells": [
    {
      "cell_type": "code",
      "execution_count": null,
      "metadata": {
        "id": "K0W6iJyBzqNT"
      },
      "outputs": [],
      "source": [
        "ㅁㄴㅇㄻㄴㅇㄻㄴㅇㄻㄴㅇㄹ"
      ]
    },
    {
      "cell_type": "code",
      "source": [],
      "metadata": {
        "id": "Ra4eV5xEzrqE"
      },
      "execution_count": null,
      "outputs": []
    }
  ]
}